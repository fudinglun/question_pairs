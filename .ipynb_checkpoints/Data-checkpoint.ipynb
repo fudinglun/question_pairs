{
 "cells": [
  {
   "cell_type": "code",
   "execution_count": 17,
   "metadata": {
    "collapsed": true
   },
   "outputs": [],
   "source": [
    "import pandas as pd\n",
    "import numpy as np\n",
    "from sklearn.model_selection import train_test_split"
   ]
  },
  {
   "cell_type": "code",
   "execution_count": 18,
   "metadata": {
    "collapsed": true
   },
   "outputs": [],
   "source": [
    "#used to split the data\n",
    "# df = pd.read_csv(\"../data/all_train.csv\")\n",
    "# train, valid = train_test_split(df, test_size=0.3, shuffle=True)\n",
    "# valid, test = train_test_split(valid, test_size=0.5, shuffle=True)"
   ]
  },
  {
   "cell_type": "code",
   "execution_count": 19,
   "metadata": {},
   "outputs": [],
   "source": [
    "train = pd.read_csv(\"../data/train.csv\")\n",
    "valid = pd.read_csv(\"../data/valid.csv\")\n",
    "test = pd.read_csv(\"../data/test.csv\")"
   ]
  },
  {
   "cell_type": "code",
   "execution_count": 24,
   "metadata": {},
   "outputs": [
    {
     "data": {
      "text/html": [
       "<div>\n",
       "<style>\n",
       "    .dataframe thead tr:only-child th {\n",
       "        text-align: right;\n",
       "    }\n",
       "\n",
       "    .dataframe thead th {\n",
       "        text-align: left;\n",
       "    }\n",
       "\n",
       "    .dataframe tbody tr th {\n",
       "        vertical-align: top;\n",
       "    }\n",
       "</style>\n",
       "<table border=\"1\" class=\"dataframe\">\n",
       "  <thead>\n",
       "    <tr style=\"text-align: right;\">\n",
       "      <th></th>\n",
       "      <th>Unnamed: 0</th>\n",
       "      <th>id</th>\n",
       "      <th>qid1</th>\n",
       "      <th>qid2</th>\n",
       "      <th>question1</th>\n",
       "      <th>question2</th>\n",
       "      <th>is_duplicate</th>\n",
       "    </tr>\n",
       "  </thead>\n",
       "  <tbody>\n",
       "    <tr>\n",
       "      <th>0</th>\n",
       "      <td>96985</td>\n",
       "      <td>96985</td>\n",
       "      <td>161446</td>\n",
       "      <td>161447</td>\n",
       "      <td>Will Ichiro play for the Marlins tonight at Ta...</td>\n",
       "      <td>Why hasn't Ichiro been getting more playing ti...</td>\n",
       "      <td>0</td>\n",
       "    </tr>\n",
       "    <tr>\n",
       "      <th>1</th>\n",
       "      <td>324902</td>\n",
       "      <td>324902</td>\n",
       "      <td>451059</td>\n",
       "      <td>451060</td>\n",
       "      <td>How does the attitude of people near you (espe...</td>\n",
       "      <td>Why do I tend to get very easily annoyed with ...</td>\n",
       "      <td>0</td>\n",
       "    </tr>\n",
       "    <tr>\n",
       "      <th>2</th>\n",
       "      <td>265653</td>\n",
       "      <td>265653</td>\n",
       "      <td>382665</td>\n",
       "      <td>125239</td>\n",
       "      <td>What this language?</td>\n",
       "      <td>What language is this in?</td>\n",
       "      <td>0</td>\n",
       "    </tr>\n",
       "    <tr>\n",
       "      <th>3</th>\n",
       "      <td>368066</td>\n",
       "      <td>368066</td>\n",
       "      <td>170750</td>\n",
       "      <td>498402</td>\n",
       "      <td>Are there any business owners or employees who...</td>\n",
       "      <td>HR Technology: Who has experience using WageWo...</td>\n",
       "      <td>0</td>\n",
       "    </tr>\n",
       "    <tr>\n",
       "      <th>4</th>\n",
       "      <td>190882</td>\n",
       "      <td>190882</td>\n",
       "      <td>290084</td>\n",
       "      <td>290085</td>\n",
       "      <td>I want to add a new answer. How do I permanent...</td>\n",
       "      <td>What if I want to write a new answer to a ques...</td>\n",
       "      <td>1</td>\n",
       "    </tr>\n",
       "  </tbody>\n",
       "</table>\n",
       "</div>"
      ],
      "text/plain": [
       "   Unnamed: 0      id    qid1    qid2  \\\n",
       "0       96985   96985  161446  161447   \n",
       "1      324902  324902  451059  451060   \n",
       "2      265653  265653  382665  125239   \n",
       "3      368066  368066  170750  498402   \n",
       "4      190882  190882  290084  290085   \n",
       "\n",
       "                                           question1  \\\n",
       "0  Will Ichiro play for the Marlins tonight at Ta...   \n",
       "1  How does the attitude of people near you (espe...   \n",
       "2                                What this language?   \n",
       "3  Are there any business owners or employees who...   \n",
       "4  I want to add a new answer. How do I permanent...   \n",
       "\n",
       "                                           question2  is_duplicate  \n",
       "0  Why hasn't Ichiro been getting more playing ti...             0  \n",
       "1  Why do I tend to get very easily annoyed with ...             0  \n",
       "2                          What language is this in?             0  \n",
       "3  HR Technology: Who has experience using WageWo...             0  \n",
       "4  What if I want to write a new answer to a ques...             1  "
      ]
     },
     "execution_count": 24,
     "metadata": {},
     "output_type": "execute_result"
    }
   ],
   "source": []
  },
  {
   "cell_type": "raw",
   "metadata": {},
   "source": []
  }
 ],
 "metadata": {
  "kernelspec": {
   "display_name": "Python (3.6)",
   "language": "python",
   "name": "3point6"
  },
  "language_info": {
   "codemirror_mode": {
    "name": "ipython",
    "version": 3
   },
   "file_extension": ".py",
   "mimetype": "text/x-python",
   "name": "python",
   "nbconvert_exporter": "python",
   "pygments_lexer": "ipython3",
   "version": "3.6.5"
  }
 },
 "nbformat": 4,
 "nbformat_minor": 2
}
